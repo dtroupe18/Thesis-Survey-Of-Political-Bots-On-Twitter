{
 "cells": [
  {
   "cell_type": "code",
   "execution_count": 73,
   "metadata": {},
   "outputs": [],
   "source": [
    "import os\n",
    "import pandas as pd\n",
    "import nltk\n",
    "import numpy as np\n",
    "import pickle\n",
    "from random import randint"
   ]
  },
  {
   "cell_type": "code",
   "execution_count": 93,
   "metadata": {},
   "outputs": [],
   "source": [
    "def load_csv_file(file_name, col_name=None):\n",
    "    sub_directories = '/Data/Profile-Data/'\n",
    "    base_path = os.getcwd()\n",
    "    full_path = base_path + sub_directories + file_name\n",
    "    \n",
    "    if col_name is not None:\n",
    "        return pd.read_csv(full_path, usecols=[col_name])\n",
    "    \n",
    "    # print('Full Path: ', full_path)\n",
    "    return pd.read_csv(full_path, header=0)\n",
    "\n",
    "\n",
    "def map_russian_bots_header(df):\n",
    "    df['id'].fillna(0, inplace=True)\n",
    "    df['id'] = df.id.astype('int64')\n",
    "    \n",
    "    df.columns = ['user_id', 'user_location', 'user_name', 'user_followers_count', 'user_statuses_count', \n",
    "                  'user_time_zone', 'user_verified', 'user_lang', 'user_screen_name', 'user_description',\n",
    "                  'user_created_at', 'user_favourites_count', 'user_friends_count', 'user_listed_count']\n",
    "    \n",
    "    df = add_missing_columns_to_russian_bots(df)\n",
    "    return df\n",
    "\n",
    "def clean_my_bot_data(df):\n",
    "    df.drop(['bot_score', 'cap', 'tweet_count', 'tweet_time', 'tweet_text'], inplace=True, axis=1, errors='ignore')\n",
    "    df.drop(['user_following', 'user_url', 'cleaned_description', 'political_word_count'], inplace=True, axis=1, errors='ignore')\n",
    "    df.drop(['user_profile_image_url', 'user_profile_image_url'], inplace=True, axis=1, errors='ignore')\n",
    "    df.drop(['user_profile_background_color', 'user_utc_offset', 'user_listed_count.1'], inplace=True, axis=1, errors='ignore')\n",
    "    df.drop(['bot_score', 'cap', 'tweet_count', 'tweet_time', 'tweet_text'], inplace=True, axis=1, errors='ignore')\n",
    "    return df\n",
    "\n",
    "\n",
    "def print_list(data):\n",
    "    for x in data:\n",
    "        print(x)\n",
    "        \n",
    "\n",
    "def check_headers(russian_df, my_df):\n",
    "    my_header = set(list(my_df.columns.values))\n",
    "    their_header = set(list(russian_df.columns.values))\n",
    "    \n",
    "    no_match = my_header.symmetric_difference(their_header)\n",
    "    print('The following columns are still a problem: ', no_match)\n",
    "    return\n",
    "\n",
    "def add_missing_columns_to_russian_bots(df):\n",
    "    df['user_default_profile_image'] = False\n",
    "    \n",
    "    def_profile_col = []\n",
    "    geo_enabled_col = []\n",
    "    \n",
    "    for i in range(len(df)):\n",
    "        random = randint(0, 100)\n",
    "        \n",
    "        if random >= 84:\n",
    "            geo_enabled_col.append(True)\n",
    "        else:\n",
    "            geo_enabled_col.append(False)\n",
    "            \n",
    "        if random < 75:\n",
    "            def_profile_col.append(False)\n",
    "        else:\n",
    "            def_profile_col.append(True)\n",
    "        \n",
    "    df['user_default_profile'] = def_profile_col\n",
    "    df['user_geo_enabled'] = geo_enabled_col\n",
    "    \n",
    "    return df\n",
    "\n",
    "\n",
    "def save_df_to_csv(df, file_name):\n",
    "    file_name += '.csv'\n",
    "    df.to_csv(file_name, encoding='utf-8', index=False)\n",
    "    "
   ]
  },
  {
   "cell_type": "code",
   "execution_count": 89,
   "metadata": {},
   "outputs": [],
   "source": [
    "russian_bots = load_csv_file('OfficialRussianBotUsers.csv')\n",
    "my_bots = load_csv_file('political_bot_profiles(1-word).csv')"
   ]
  },
  {
   "cell_type": "code",
   "execution_count": 91,
   "metadata": {},
   "outputs": [],
   "source": [
    "russian_bots = map_russian_bots_header(russian_bots)\n",
    "my_bots = clean_my_bot_data(my_bots)"
   ]
  },
  {
   "cell_type": "code",
   "execution_count": 92,
   "metadata": {},
   "outputs": [
    {
     "name": "stdout",
     "output_type": "stream",
     "text": [
      "The following columns are still a problem:  set()\n"
     ]
    }
   ],
   "source": [
    "check_headers(russian_bots, my_bots) # Should be an empty set!"
   ]
  },
  {
   "cell_type": "code",
   "execution_count": 94,
   "metadata": {},
   "outputs": [
    {
     "name": "stdout",
     "output_type": "stream",
     "text": [
      "1517\n"
     ]
    }
   ],
   "source": [
    "combined = pd.concat([russian_bots, my_bots])\n",
    "print(len(combined))"
   ]
  },
  {
   "cell_type": "code",
   "execution_count": 95,
   "metadata": {},
   "outputs": [],
   "source": [
    "save_df_to_csv(combined, 'Initial-Combined-Data')"
   ]
  },
  {
   "cell_type": "code",
   "execution_count": null,
   "metadata": {},
   "outputs": [],
   "source": []
  }
 ],
 "metadata": {
  "kernelspec": {
   "display_name": "Python 3",
   "language": "python",
   "name": "python3"
  },
  "language_info": {
   "codemirror_mode": {
    "name": "ipython",
    "version": 3
   },
   "file_extension": ".py",
   "mimetype": "text/x-python",
   "name": "python",
   "nbconvert_exporter": "python",
   "pygments_lexer": "ipython3",
   "version": "3.6.4"
  }
 },
 "nbformat": 4,
 "nbformat_minor": 2
}
