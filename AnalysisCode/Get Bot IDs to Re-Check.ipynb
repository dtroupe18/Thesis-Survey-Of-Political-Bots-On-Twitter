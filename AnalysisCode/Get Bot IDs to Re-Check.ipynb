{
 "cells": [
  {
   "cell_type": "code",
   "execution_count": 1,
   "metadata": {},
   "outputs": [],
   "source": [
    "import os\n",
    "import pandas as pd\n",
    "import numpy as np"
   ]
  },
  {
   "cell_type": "code",
   "execution_count": 2,
   "metadata": {},
   "outputs": [],
   "source": [
    "def load_csv_as_df(file_name, sub_directories, col_name=None):\n",
    "    '''\n",
    "    Load any csv as a pandas dataframe. Provide the filename, the subdirectories, and columns to read(if desired).\n",
    "    '''\n",
    "    # sub_directories = '/Data/'\n",
    "    base_path = os.getcwd()\n",
    "    full_path = base_path + sub_directories + file_name\n",
    "    \n",
    "    if col_name is not None:\n",
    "        return pd.read_csv(full_path, usecols=[col_name])\n",
    "    \n",
    "    # print('Full Path: ', full_path)\n",
    "    return pd.read_csv(full_path, header=0)\n",
    "\n",
    "def describe_bots(df, return_dfs=False, for_timeline=False):\n",
    "    \n",
    "    if for_timeline:\n",
    "        df = df.drop_duplicates(subset='user_id', keep='last')\n",
    "        bot_df = df[df.user_cap >= 0.53]\n",
    "        human_df = df[df.user_cap < 0.4]\n",
    "        removed_df = df[(df['user_cap'] >= 0.4) & (df['user_cap'] < 0.53)]\n",
    "    else:\n",
    "        bot_df = df[df.cap >= 0.53]\n",
    "        human_df = df[df.cap < 0.4]\n",
    "        removed_df = df[(df['cap'] >= 0.4) & (df['cap'] < 0.53)]\n",
    "  \n",
    "    bot_percent = len(bot_df)/len(df) * 100\n",
    "    human_percent = len(human_df)/len(df) * 100\n",
    "    removed_percent = len(removed_df)/len(df) * 100\n",
    "    \n",
    "    total_num_tweets = df['tweet_count'].sum()\n",
    "    total_bot_tweets = bot_df['tweet_count'].sum()\n",
    "    percent_bot_tweets = (total_bot_tweets / total_num_tweets) * 100\n",
    "    \n",
    "\n",
    "    print('There are ', len(df), 'total records')\n",
    "    print('There are ', len(bot_df), 'Bots in these records')\n",
    "    print('There are a total of ', str(total_num_tweets), ' tweets sent')\n",
    "    print('Bots sent ', str(total_bot_tweets), ' tweets or ', str(round(percent_bot_tweets, 2)), '% of tweets')\n",
    "    print('Percentage of total accounts that are bots = ' + str(round(bot_percent, 2)) + '%')\n",
    "    print('Percentage of total accounts that are humans = ' + str(round(human_percent, 2)) + '%')\n",
    "    print('Percentage of total accounts that were removed = ' + str(round(removed_percent, 2)) + '%')\n",
    "    print('Average account age in days ', df['age_in_days'].mean())\n",
    "    print('Average bot account age in days ', bot_df['age_in_days'].mean())\n",
    "    print('Average human account age in days ', human_df['age_in_days'].mean())\n",
    "    print('Average overall CAP score ', df['cap'].mean())\n",
    "    print('Average human CAP score ', human_df['cap'].mean())\n",
    "    print('Average bot CAP score ', bot_df['cap'].mean())\n",
    "    \n",
    "    \n",
    "    if return_dfs:\n",
    "        return bot_df, human_df, removed_df\n",
    "    \n",
    "def show_number_of_errors(df1, df2):\n",
    "    df = pd.concat([df1, df2])\n",
    "    print('Total number of accounts where errors: ', len(df))\n",
    "    return df"
   ]
  },
  {
   "cell_type": "code",
   "execution_count": 3,
   "metadata": {},
   "outputs": [],
   "source": [
    "before_df = load_csv_as_df('MasterIDs-3.csv', '/Data/Master-Data/')\n",
    "kav_only_df = load_csv_as_df('Kav-MasterIDs.csv', '/Data/Master-Data/')\n",
    "almost_full_df = load_csv_as_df('MasterIDs-4.csv', '/Data/Master-Data/')\n",
    "\n",
    "full_df = pd.concat([kav_only_df, almost_full_df])\n",
    "# full_df = calculate_account_age_in_days(full_df)"
   ]
  },
  {
   "cell_type": "code",
   "execution_count": null,
   "metadata": {},
   "outputs": [],
   "source": []
  },
  {
   "cell_type": "code",
   "execution_count": 4,
   "metadata": {},
   "outputs": [
    {
     "name": "stdout",
     "output_type": "stream",
     "text": [
      "Total number of accounts where errors:  24105\n"
     ]
    }
   ],
   "source": [
    "error_df1 = load_csv_as_df('ErrorIDs-4.csv', '/Data/Master-Data/')\n",
    "error_df2 = load_csv_as_df('Kav-ErrorIDs.csv', '/Data/Master-Data/')\n",
    "erro_df = show_number_of_errors(error_df1, error_df2)"
   ]
  },
  {
   "cell_type": "code",
   "execution_count": 5,
   "metadata": {},
   "outputs": [],
   "source": [
    "# full_df.head()"
   ]
  },
  {
   "cell_type": "code",
   "execution_count": 12,
   "metadata": {},
   "outputs": [],
   "source": [
    "all_bots = full_df[full_df.cap >= 0.53]"
   ]
  },
  {
   "cell_type": "code",
   "execution_count": 13,
   "metadata": {},
   "outputs": [
    {
     "name": "stderr",
     "output_type": "stream",
     "text": [
      "/Library/Frameworks/Python.framework/Versions/3.6/lib/python3.6/site-packages/ipykernel_launcher.py:1: SettingWithCopyWarning: \n",
      "A value is trying to be set on a copy of a slice from a DataFrame.\n",
      "Try using .loc[row_indexer,col_indexer] = value instead\n",
      "\n",
      "See the caveats in the documentation: http://pandas.pydata.org/pandas-docs/stable/indexing.html#indexing-view-versus-copy\n",
      "  \"\"\"Entry point for launching an IPython kernel.\n"
     ]
    }
   ],
   "source": [
    "all_bots['user_id'] = all_bots['user_id'].astype('int64')\n",
    "# print(all_bots['user_id'].tolist())"
   ]
  },
  {
   "cell_type": "code",
   "execution_count": 14,
   "metadata": {},
   "outputs": [
    {
     "data": {
      "text/html": [
       "<div>\n",
       "<style scoped>\n",
       "    .dataframe tbody tr th:only-of-type {\n",
       "        vertical-align: middle;\n",
       "    }\n",
       "\n",
       "    .dataframe tbody tr th {\n",
       "        vertical-align: top;\n",
       "    }\n",
       "\n",
       "    .dataframe thead th {\n",
       "        text-align: right;\n",
       "    }\n",
       "</style>\n",
       "<table border=\"1\" class=\"dataframe\">\n",
       "  <thead>\n",
       "    <tr style=\"text-align: right;\">\n",
       "      <th></th>\n",
       "      <th>user_id</th>\n",
       "      <th>bot_score</th>\n",
       "      <th>cap</th>\n",
       "      <th>tweet_count</th>\n",
       "      <th>tweet_time</th>\n",
       "      <th>tweet_text</th>\n",
       "      <th>user_favourites_count</th>\n",
       "      <th>user_statuses_count</th>\n",
       "      <th>user_description</th>\n",
       "      <th>user_location</th>\n",
       "      <th>...</th>\n",
       "      <th>user_friends_count</th>\n",
       "      <th>user_default_profile</th>\n",
       "      <th>user_name</th>\n",
       "      <th>user_lang</th>\n",
       "      <th>user_screen_name</th>\n",
       "      <th>user_geo_enabled</th>\n",
       "      <th>user_profile_background_color</th>\n",
       "      <th>user_profile_image_url</th>\n",
       "      <th>user_time_zone</th>\n",
       "      <th>user_listed_count.1</th>\n",
       "    </tr>\n",
       "  </thead>\n",
       "  <tbody>\n",
       "    <tr>\n",
       "      <th>22</th>\n",
       "      <td>1007607706847346688</td>\n",
       "      <td>4.4</td>\n",
       "      <td>0.661264</td>\n",
       "      <td>1</td>\n",
       "      <td>2018-09-26 03:28:47</td>\n",
       "      <td>น่าอิจฉาสุดๆ!! 3 ราศีใดที่ช่วงนี้จะมีโชคและได้...</td>\n",
       "      <td>3</td>\n",
       "      <td>3</td>\n",
       "      <td>NaN</td>\n",
       "      <td>NaN</td>\n",
       "      <td>...</td>\n",
       "      <td>8</td>\n",
       "      <td>True</td>\n",
       "      <td>กาญจนา  ยุทธิวัจน์</td>\n",
       "      <td>th</td>\n",
       "      <td>1KNpMAYEny2440K</td>\n",
       "      <td>True</td>\n",
       "      <td>F5F8FA</td>\n",
       "      <td>http://abs.twimg.com/sticky/default_profile_im...</td>\n",
       "      <td>NaN</td>\n",
       "      <td>0</td>\n",
       "    </tr>\n",
       "    <tr>\n",
       "      <th>37</th>\n",
       "      <td>921000049684856832</td>\n",
       "      <td>4.6</td>\n",
       "      <td>0.773905</td>\n",
       "      <td>1</td>\n",
       "      <td>2018-09-26 05:08:38</td>\n",
       "      <td>RT @_GenUnlimited: \"I want to hear your voice....</td>\n",
       "      <td>379</td>\n",
       "      <td>1271</td>\n",
       "      <td>เมนหลักจีม เหนือเมนน้องกุก เหนือของเหนือเมนเจ้...</td>\n",
       "      <td>NaN</td>\n",
       "      <td>...</td>\n",
       "      <td>384</td>\n",
       "      <td>True</td>\n",
       "      <td>เจ้าหญิงของบังทัน</td>\n",
       "      <td>th</td>\n",
       "      <td>jiminbtsvvvv</td>\n",
       "      <td>False</td>\n",
       "      <td>F5F8FA</td>\n",
       "      <td>http://pbs.twimg.com/profile_images/1044548320...</td>\n",
       "      <td>NaN</td>\n",
       "      <td>0</td>\n",
       "    </tr>\n",
       "    <tr>\n",
       "      <th>49</th>\n",
       "      <td>986216409515479040</td>\n",
       "      <td>4.4</td>\n",
       "      <td>0.685259</td>\n",
       "      <td>1</td>\n",
       "      <td>2018-09-26 05:08:41</td>\n",
       "      <td>RT @UNICEF: \"I want to hear your voice... No m...</td>\n",
       "      <td>9</td>\n",
       "      <td>429</td>\n",
       "      <td>ติ่งเกือบทุกวง แต่จะมั่นคงกับbangtan</td>\n",
       "      <td>NaN</td>\n",
       "      <td>...</td>\n",
       "      <td>137</td>\n",
       "      <td>True</td>\n",
       "      <td>Numjoon</td>\n",
       "      <td>th</td>\n",
       "      <td>Numjoon_S2</td>\n",
       "      <td>False</td>\n",
       "      <td>F5F8FA</td>\n",
       "      <td>http://pbs.twimg.com/profile_images/9862206589...</td>\n",
       "      <td>NaN</td>\n",
       "      <td>0</td>\n",
       "    </tr>\n",
       "    <tr>\n",
       "      <th>61</th>\n",
       "      <td>971803466732421120</td>\n",
       "      <td>4.7</td>\n",
       "      <td>0.845413</td>\n",
       "      <td>1</td>\n",
       "      <td>2018-09-26 05:08:46</td>\n",
       "      <td>RT @CNN: UN members laughed during President T...</td>\n",
       "      <td>37</td>\n",
       "      <td>2</td>\n",
       "      <td>NaN</td>\n",
       "      <td>NaN</td>\n",
       "      <td>...</td>\n",
       "      <td>24</td>\n",
       "      <td>True</td>\n",
       "      <td>Sarracenial</td>\n",
       "      <td>en</td>\n",
       "      <td>Sarracenial10</td>\n",
       "      <td>False</td>\n",
       "      <td>F5F8FA</td>\n",
       "      <td>http://abs.twimg.com/sticky/default_profile_im...</td>\n",
       "      <td>NaN</td>\n",
       "      <td>0</td>\n",
       "    </tr>\n",
       "    <tr>\n",
       "      <th>84</th>\n",
       "      <td>1033348450631352320</td>\n",
       "      <td>4.4</td>\n",
       "      <td>0.685259</td>\n",
       "      <td>2</td>\n",
       "      <td>2018-09-26 05:08:52</td>\n",
       "      <td>RT @UNICEF: To everyone who watched today's ev...</td>\n",
       "      <td>880</td>\n",
       "      <td>270</td>\n",
       "      <td>Fan Account @BTS_twt</td>\n",
       "      <td>Việt Nam</td>\n",
       "      <td>...</td>\n",
       "      <td>31</td>\n",
       "      <td>True</td>\n",
       "      <td>thuw</td>\n",
       "      <td>vi</td>\n",
       "      <td>thuw19</td>\n",
       "      <td>False</td>\n",
       "      <td>F5F8FA</td>\n",
       "      <td>http://pbs.twimg.com/profile_images/1033355052...</td>\n",
       "      <td>NaN</td>\n",
       "      <td>0</td>\n",
       "    </tr>\n",
       "  </tbody>\n",
       "</table>\n",
       "<p>5 rows × 28 columns</p>\n",
       "</div>"
      ],
      "text/plain": [
       "                user_id  bot_score       cap  tweet_count  \\\n",
       "22  1007607706847346688        4.4  0.661264            1   \n",
       "37   921000049684856832        4.6  0.773905            1   \n",
       "49   986216409515479040        4.4  0.685259            1   \n",
       "61   971803466732421120        4.7  0.845413            1   \n",
       "84  1033348450631352320        4.4  0.685259            2   \n",
       "\n",
       "             tweet_time                                         tweet_text  \\\n",
       "22  2018-09-26 03:28:47  น่าอิจฉาสุดๆ!! 3 ราศีใดที่ช่วงนี้จะมีโชคและได้...   \n",
       "37  2018-09-26 05:08:38  RT @_GenUnlimited: \"I want to hear your voice....   \n",
       "49  2018-09-26 05:08:41  RT @UNICEF: \"I want to hear your voice... No m...   \n",
       "61  2018-09-26 05:08:46  RT @CNN: UN members laughed during President T...   \n",
       "84  2018-09-26 05:08:52  RT @UNICEF: To everyone who watched today's ev...   \n",
       "\n",
       "    user_favourites_count  user_statuses_count  \\\n",
       "22                      3                    3   \n",
       "37                    379                 1271   \n",
       "49                      9                  429   \n",
       "61                     37                    2   \n",
       "84                    880                  270   \n",
       "\n",
       "                                     user_description user_location  \\\n",
       "22                                                NaN           NaN   \n",
       "37  เมนหลักจีม เหนือเมนน้องกุก เหนือของเหนือเมนเจ้...           NaN   \n",
       "49               ติ่งเกือบทุกวง แต่จะมั่นคงกับbangtan           NaN   \n",
       "61                                                NaN           NaN   \n",
       "84                               Fan Account @BTS_twt      Việt Nam   \n",
       "\n",
       "           ...          user_friends_count  user_default_profile  \\\n",
       "22         ...                           8                  True   \n",
       "37         ...                         384                  True   \n",
       "49         ...                         137                  True   \n",
       "61         ...                          24                  True   \n",
       "84         ...                          31                  True   \n",
       "\n",
       "             user_name user_lang  user_screen_name  user_geo_enabled  \\\n",
       "22  กาญจนา  ยุทธิวัจน์        th   1KNpMAYEny2440K              True   \n",
       "37   เจ้าหญิงของบังทัน        th      jiminbtsvvvv             False   \n",
       "49             Numjoon        th        Numjoon_S2             False   \n",
       "61         Sarracenial        en     Sarracenial10             False   \n",
       "84                thuw        vi            thuw19             False   \n",
       "\n",
       "    user_profile_background_color  \\\n",
       "22                         F5F8FA   \n",
       "37                         F5F8FA   \n",
       "49                         F5F8FA   \n",
       "61                         F5F8FA   \n",
       "84                         F5F8FA   \n",
       "\n",
       "                               user_profile_image_url  user_time_zone  \\\n",
       "22  http://abs.twimg.com/sticky/default_profile_im...             NaN   \n",
       "37  http://pbs.twimg.com/profile_images/1044548320...             NaN   \n",
       "49  http://pbs.twimg.com/profile_images/9862206589...             NaN   \n",
       "61  http://abs.twimg.com/sticky/default_profile_im...             NaN   \n",
       "84  http://pbs.twimg.com/profile_images/1033355052...             NaN   \n",
       "\n",
       "    user_listed_count.1  \n",
       "22                    0  \n",
       "37                    0  \n",
       "49                    0  \n",
       "61                    0  \n",
       "84                    0  \n",
       "\n",
       "[5 rows x 28 columns]"
      ]
     },
     "execution_count": 14,
     "metadata": {},
     "output_type": "execute_result"
    }
   ],
   "source": [
    "all_bots.head()"
   ]
  },
  {
   "cell_type": "code",
   "execution_count": 15,
   "metadata": {},
   "outputs": [
    {
     "name": "stdout",
     "output_type": "stream",
     "text": [
      "22808\n"
     ]
    }
   ],
   "source": [
    "print(len(all_bots))"
   ]
  },
  {
   "cell_type": "code",
   "execution_count": 16,
   "metadata": {},
   "outputs": [
    {
     "name": "stdout",
     "output_type": "stream",
     "text": [
      "Removed  1390  duplicates!\n"
     ]
    }
   ],
   "source": [
    "initial_size = len(all_bots)\n",
    "all_bots = all_bots.sort_values('cap')\n",
    "all_bots = all_bots.drop_duplicates('user_id', keep='last')\n",
    "new_size = len(all_bots)\n",
    "\n",
    "print('Removed ', initial_size - new_size, ' duplicates!')"
   ]
  },
  {
   "cell_type": "code",
   "execution_count": 17,
   "metadata": {},
   "outputs": [
    {
     "name": "stdout",
     "output_type": "stream",
     "text": [
      "21418\n"
     ]
    }
   ],
   "source": [
    "print(len(all_bots))"
   ]
  },
  {
   "cell_type": "code",
   "execution_count": 26,
   "metadata": {},
   "outputs": [
    {
     "name": "stdout",
     "output_type": "stream",
     "text": [
      "['user_id', 'bot_score', 'cap', 'tweet_count', 'tweet_time', 'tweet_text', 'user_favourites_count', 'user_statuses_count', 'user_description', 'user_location', 'user_created_at', 'user_verified', 'user_following', 'user_url', 'user_listed_count', 'user_followers_count', 'user_default_profile_image', 'user_utc_offset', 'user_friends_count', 'user_default_profile', 'user_name', 'user_lang', 'user_screen_name', 'user_geo_enabled', 'user_profile_background_color', 'user_profile_image_url', 'user_time_zone', 'user_listed_count.1']\n"
     ]
    }
   ],
   "source": [
    "print(list(all_bots))"
   ]
  },
  {
   "cell_type": "code",
   "execution_count": 27,
   "metadata": {},
   "outputs": [],
   "source": [
    "column_list = ['tweet_text', 'tweet_time', 'user_id', 'tweet_count']\n",
    "all_bots = all_bots[column_list]"
   ]
  },
  {
   "cell_type": "code",
   "execution_count": 28,
   "metadata": {},
   "outputs": [
    {
     "name": "stdout",
     "output_type": "stream",
     "text": [
      "22808\n"
     ]
    }
   ],
   "source": [
    "print(len(all_bots))"
   ]
  },
  {
   "cell_type": "code",
   "execution_count": 29,
   "metadata": {},
   "outputs": [],
   "source": [
    "all_bots.to_csv('BotsToRecheck.csv', encoding='utf-8')"
   ]
  },
  {
   "cell_type": "code",
   "execution_count": 6,
   "metadata": {},
   "outputs": [],
   "source": [
    "all_bot_ids = all_bots['user_id'].tolist()"
   ]
  },
  {
   "cell_type": "code",
   "execution_count": 7,
   "metadata": {},
   "outputs": [],
   "source": [
    "profiles = full_df[full_df['user_id'].isin(all_bot_ids)]"
   ]
  },
  {
   "cell_type": "code",
   "execution_count": 9,
   "metadata": {},
   "outputs": [],
   "source": [
    "weird = profiles[profiles.cap < 0.53]"
   ]
  },
  {
   "cell_type": "code",
   "execution_count": 10,
   "metadata": {},
   "outputs": [
    {
     "data": {
      "text/plain": [
       "(672, 28)"
      ]
     },
     "execution_count": 10,
     "metadata": {},
     "output_type": "execute_result"
    }
   ],
   "source": [
    "weird.shape"
   ]
  },
  {
   "cell_type": "code",
   "execution_count": 11,
   "metadata": {},
   "outputs": [],
   "source": [
    "all_bots = full_df[full_df.cap >= 0.53]"
   ]
  },
  {
   "cell_type": "code",
   "execution_count": 12,
   "metadata": {},
   "outputs": [
    {
     "data": {
      "text/plain": [
       "(0, 28)"
      ]
     },
     "execution_count": 12,
     "metadata": {},
     "output_type": "execute_result"
    }
   ],
   "source": [
    "wtf = all_bots[all_bots.cap < 0.53]\n",
    "wtf.shape"
   ]
  },
  {
   "cell_type": "code",
   "execution_count": null,
   "metadata": {},
   "outputs": [],
   "source": [
    "all_bot_ids = all_bots['user_id'].tolist()"
   ]
  },
  {
   "cell_type": "code",
   "execution_count": 14,
   "metadata": {},
   "outputs": [
    {
     "name": "stdout",
     "output_type": "stream",
     "text": [
      "Out of  717422  tweets there were  21895  duplicate ID's\n"
     ]
    }
   ],
   "source": [
    "original_size = len(full_df)\n",
    "\n",
    "# Drop duplicate ids since we only need to get the user data once\n",
    "df = full_df.drop_duplicates('user_id', keep='last')\n",
    "unique_size = len(df)\n",
    "print('Out of ', original_size, ' tweets there were ', (original_size - unique_size), ' duplicate ID\\'s')\n",
    "\n",
    "\n",
    "\n",
    "\n"
   ]
  },
  {
   "cell_type": "code",
   "execution_count": null,
   "metadata": {},
   "outputs": [],
   "source": []
  }
 ],
 "metadata": {
  "kernelspec": {
   "display_name": "Python 3",
   "language": "python",
   "name": "python3"
  },
  "language_info": {
   "codemirror_mode": {
    "name": "ipython",
    "version": 3
   },
   "file_extension": ".py",
   "mimetype": "text/x-python",
   "name": "python",
   "nbconvert_exporter": "python",
   "pygments_lexer": "ipython3",
   "version": "3.6.4"
  }
 },
 "nbformat": 4,
 "nbformat_minor": 2
}
