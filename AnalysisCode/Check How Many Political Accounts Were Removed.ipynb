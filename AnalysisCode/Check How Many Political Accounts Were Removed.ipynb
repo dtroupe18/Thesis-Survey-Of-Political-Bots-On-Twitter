{
 "cells": [
  {
   "cell_type": "code",
   "execution_count": 1,
   "metadata": {},
   "outputs": [],
   "source": [
    "import os\n",
    "import pandas as pd\n",
    "import nltk\n",
    "import numpy as np\n",
    "import pickle"
   ]
  },
  {
   "cell_type": "code",
   "execution_count": 5,
   "metadata": {},
   "outputs": [],
   "source": [
    "def load_csv_file(file_name, sub_directories=None, col_name=None):\n",
    "    if sub_directories is None:\n",
    "        sub_directories = '/Data/Profile-Data/'\n",
    "        \n",
    "    base_path = os.getcwd()\n",
    "    full_path = base_path + sub_directories + file_name\n",
    "    \n",
    "    if col_name is not None:\n",
    "        return pd.read_csv(full_path, usecols=[col_name])\n",
    "    \n",
    "    # print('Full Path: ', full_path)\n",
    "    return pd.read_csv(full_path, header=0)"
   ]
  },
  {
   "cell_type": "code",
   "execution_count": 7,
   "metadata": {},
   "outputs": [],
   "source": [
    "removed_ids = load_csv_file('TwitterRemovedIDs.csv', '/Data/Derived-Data/')"
   ]
  },
  {
   "cell_type": "code",
   "execution_count": 9,
   "metadata": {},
   "outputs": [],
   "source": [
    "political_bot_df = load_csv_file('political_bot_profiles(1-word).csv')"
   ]
  },
  {
   "cell_type": "code",
   "execution_count": 11,
   "metadata": {},
   "outputs": [
    {
     "name": "stdout",
     "output_type": "stream",
     "text": [
      "0\n"
     ]
    }
   ],
   "source": [
    "removed_profiles = political_bot_df[political_bot_df['user_id'].isin(removed_ids)]\n",
    "\n",
    "print(len(removed_profiles)) # not a single account has been removed... Fucking Twitter"
   ]
  },
  {
   "cell_type": "code",
   "execution_count": null,
   "metadata": {},
   "outputs": [],
   "source": []
  }
 ],
 "metadata": {
  "kernelspec": {
   "display_name": "Python 3",
   "language": "python",
   "name": "python3"
  },
  "language_info": {
   "codemirror_mode": {
    "name": "ipython",
    "version": 3
   },
   "file_extension": ".py",
   "mimetype": "text/x-python",
   "name": "python",
   "nbconvert_exporter": "python",
   "pygments_lexer": "ipython3",
   "version": "3.6.4"
  }
 },
 "nbformat": 4,
 "nbformat_minor": 2
}
