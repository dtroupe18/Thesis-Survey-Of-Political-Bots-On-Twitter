{
 "cells": [
  {
   "cell_type": "code",
   "execution_count": 96,
   "metadata": {},
   "outputs": [],
   "source": [
    "import os\n",
    "import pandas as pd\n",
    "import math\n",
    "import nltk\n",
    "import numpy as np\n",
    "import matplotlib\n",
    "import matplotlib.pyplot as plt\n",
    "%matplotlib inline  \n",
    "import re\n",
    "from nltk.tokenize import WordPunctTokenizer\n",
    "import pickle"
   ]
  },
  {
   "cell_type": "code",
   "execution_count": 97,
   "metadata": {},
   "outputs": [],
   "source": [
    "def load_csv_as_df(file_name, sub_directories, col_name=None):\n",
    "    '''\n",
    "    Load any csv as a pandas dataframe. Provide the filename, the subdirectories, and columns to read(if desired).\n",
    "    '''\n",
    "    # sub_directories = '/Data/'\n",
    "    base_path = os.getcwd()\n",
    "    full_path = base_path + sub_directories + file_name\n",
    "    \n",
    "    if col_name is not None:\n",
    "        return pd.read_csv(full_path, usecols=[col_name])\n",
    "    \n",
    "    # print('Full Path: ', full_path)\n",
    "    return pd.read_csv(full_path, header=0)\n",
    "\n",
    "\n",
    "def describe_bots(df, return_dfs=False, for_timeline=False):\n",
    "    \n",
    "    if for_timeline:\n",
    "        df = df.drop_duplicates(subset='user_id', keep='last')\n",
    "        bot_df = df[df.user_cap >= 0.53]\n",
    "        human_df = df[df.user_cap < 0.4]\n",
    "        removed_df = df[(df['user_cap'] >= 0.4) & (df['user_cap'] <= 0.53)]\n",
    "    else:\n",
    "        bot_df = df[df.cap >= 0.53]\n",
    "        human_df = df[df.cap < 0.4]\n",
    "        removed_df = df[(df['cap'] >= 0.4) & (df['cap'] <= 0.53)]\n",
    "  \n",
    "    bot_percent = len(bot_df)/len(df) * 100\n",
    "    human_percent = len(human_df)/len(df) * 100\n",
    "    removed_percent = len(removed_df)/len(df) * 100\n",
    "\n",
    "    print('There are ', len(df), 'total records')\n",
    "    print('There are ', len(bot_df), 'Bots in these records')\n",
    "    print('Percentage of total accounts that are bots = ' + str(round(bot_percent, 2)) + '%')\n",
    "    print('Percentage of total accounts that are humans = ' + str(round(human_percent, 2)) + '%')\n",
    "    print('Percentage of total accounts that were removed = ' + str(round(removed_percent, 2)) + '%')\n",
    "    \n",
    "    if return_dfs:\n",
    "        return bot_df, human_df, removed_df\n",
    "    \n",
    "def get_top_five_percent(df):\n",
    "    number_of_accounts = len(df)\n",
    "    top5 = int(number_of_accounts * 0.05)\n",
    "    \n",
    "    print(\"num accounts: \", number_of_accounts)\n",
    "    print(\"top5: \", top5)\n",
    "    \n",
    "    top_df = df.cap.nlargest(top5)\n",
    "    min_cap = top_df.min()\n",
    "    return min_cap\n",
    "    "
   ]
  },
  {
   "cell_type": "code",
   "execution_count": 98,
   "metadata": {},
   "outputs": [],
   "source": [
    "master_df = load_csv_as_df('MasterIDs-4.csv', '/Data/Master-Data/')\n",
    "error_df = load_csv_as_df('ErrorIDs-4.csv', '/Data/Master-Data/')"
   ]
  },
  {
   "cell_type": "code",
   "execution_count": 99,
   "metadata": {},
   "outputs": [
    {
     "name": "stdout",
     "output_type": "stream",
     "text": [
      "There are  546310 total records\n",
      "There are  14403 Bots in these records\n",
      "Percentage of total accounts that are bots = 2.64%\n",
      "Percentage of total accounts that are humans = 96.2%\n",
      "Percentage of total accounts that were removed = 1.17%\n"
     ]
    }
   ],
   "source": [
    "bot_df, human_df, removed_df = describe_bots(master_df, return_dfs=True)"
   ]
  },
  {
   "cell_type": "code",
   "execution_count": 100,
   "metadata": {},
   "outputs": [
    {
     "name": "stdout",
     "output_type": "stream",
     "text": [
      "9641\n"
     ]
    }
   ],
   "source": [
    "print(len(error_df))"
   ]
  },
  {
   "cell_type": "code",
   "execution_count": 101,
   "metadata": {},
   "outputs": [
    {
     "name": "stdout",
     "output_type": "stream",
     "text": [
      "num accounts:  546310\n",
      "top5:  27315\n",
      "0.2967687660397612\n"
     ]
    }
   ],
   "source": [
    "min_cap = get_top_five_percent(master_df)\n",
    "print(min_cap)"
   ]
  },
  {
   "cell_type": "code",
   "execution_count": 102,
   "metadata": {},
   "outputs": [
    {
     "name": "stdout",
     "output_type": "stream",
     "text": [
      "num accounts:  546310\n",
      "top5:  27315\n"
     ]
    },
    {
     "data": {
      "image/png": "[encoded data removed]",
      "text/plain": [
       "<Figure size 576x360 with 1 Axes>"
      ]
     },
     "metadata": {},
     "output_type": "display_data"
    }
   ],
   "source": [
    "fig, ax = plt.subplots(figsize=(8, 5))\n",
    "ax.grid(False)\n",
    "ax.set_title('Botometer CAP Score Distribution')\n",
    "plt.hist(master_df.cap, bins=10, color='b', edgecolor='k')\n",
    "plt.xlabel(\"CAP Score\")\n",
    "plt.ylabel(\"Number of Accounts\")\n",
    "plt.axvline(master_df.cap.mean(), color='y', linewidth=2.5, label='Average CAP Score')\n",
    "\n",
    "min_cap = get_top_five_percent(master_df)\n",
    "plt.axvline(x=min_cap, color='orange', linewidth=2.5, linestyle='dashed', label='95th Percentile')\n",
    "plt.axvline(x=0.4, color='g', linewidth=2.5, label='Human Threshold')\n",
    "plt.axvline(x=0.53, color='r', linewidth=2.5, label='Bot Threshold')\n",
    "\n",
    "plt.legend()\n",
    "plt.savefig('Botometer CAP Score Frequency.png', bbox_inches='tight')"
   ]
  },
  {
   "cell_type": "code",
   "execution_count": 43,
   "metadata": {},
   "outputs": [
    {
     "data": {
      "text/plain": [
       "<matplotlib.collections.PathCollection at 0x11cfb7f98>"
      ]
     },
     "execution_count": 43,
     "metadata": {},
     "output_type": "execute_result"
    },
    {
     "data": {
      "image/png": "[encoded data removed]",
      "text/plain": [
       "<Figure size 432x288 with 1 Axes>"
      ]
     },
     "metadata": {},
     "output_type": "display_data"
    }
   ],
   "source": [
    "plt.scatter(master_df.cap, master_df.bot_score)\n",
    "\n"
   ]
  }
 ],
 "metadata": {
  "kernelspec": {
   "display_name": "Python 3",
   "language": "python",
   "name": "python3"
  },
  "language_info": {
   "codemirror_mode": {
    "name": "ipython",
    "version": 3
   },
   "file_extension": ".py",
   "mimetype": "text/x-python",
   "name": "python",
   "nbconvert_exporter": "python",
   "pygments_lexer": "ipython3",
   "version": "3.6.4"
  }
 },
 "nbformat": 4,
 "nbformat_minor": 2
}
